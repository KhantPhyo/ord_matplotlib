{
  "nbformat": 4,
  "nbformat_minor": 0,
  "metadata": {
    "colab": {
      "provenance": [],
      "include_colab_link": true
    },
    "kernelspec": {
      "name": "python3",
      "display_name": "Python 3"
    },
    "language_info": {
      "name": "python"
    }
  },
  "cells": [
    {
      "cell_type": "markdown",
      "metadata": {
        "id": "view-in-github",
        "colab_type": "text"
      },
      "source": [
        "<a href=\"https://colab.research.google.com/github/KhantPhyo/ord_matplotlib/blob/main/16.%20plt_contour_plot.ipynb\" target=\"_parent\"><img src=\"https://colab.research.google.com/assets/colab-badge.svg\" alt=\"Open In Colab\"/></a>"
      ]
    },
    {
      "cell_type": "code",
      "execution_count": 1,
      "metadata": {
        "id": "goUvDceAJpe2"
      },
      "outputs": [],
      "source": [
        "#https://www.tutorialspoint.com/matplotlib/matplotlib_contour_plot.htm\n",
        "import numpy as np  # Importing the numpy library and assigning it the alias np for numerical operations\n",
        "import matplotlib.pyplot as plt  # Importing the pyplot module from the matplotlib library"
      ]
    },
    {
      "cell_type": "code",
      "source": [
        "# Generating x and y values using numpy's linspace function\n",
        "xlist = np.linspace(-3.0, 3.0, 100)  # Creates an array of 100 evenly spaced values between -3.0 and 3.0\n",
        "ylist = np.linspace(-3.0, 3.0, 100)  # Creates an array of 100 evenly spaced values between -3.0 and 3.0\n",
        "xlist.shape, ylist.shape  # Checking the shape of the arrays\n"
      ],
      "metadata": {
        "id": "8KpDzPk8Kaod",
        "colab": {
          "base_uri": "https://localhost:8080/"
        },
        "outputId": "cc7d40e7-68ca-4994-f15f-e7ed3d33a1a4"
      },
      "execution_count": 2,
      "outputs": [
        {
          "output_type": "execute_result",
          "data": {
            "text/plain": [
              "((100,), (100,))"
            ]
          },
          "metadata": {},
          "execution_count": 2
        }
      ]
    },
    {
      "cell_type": "code",
      "source": [
        "# Creating a 2D grid using numpy's meshgrid function\n",
        "X, Y = np.meshgrid(xlist, ylist)  # Creates a grid of x and y values\n",
        "X.shape, Y.shape  # Checking the shape of the grids\n"
      ],
      "metadata": {
        "colab": {
          "base_uri": "https://localhost:8080/"
        },
        "id": "WxM_g15JKvXg",
        "outputId": "40295727-bcfe-49ef-8bd4-96adda507b89"
      },
      "execution_count": 3,
      "outputs": [
        {
          "output_type": "execute_result",
          "data": {
            "text/plain": [
              "((100, 100), (100, 100))"
            ]
          },
          "metadata": {},
          "execution_count": 3
        }
      ]
    },
    {
      "cell_type": "code",
      "source": [
        "# Calculating the Z values using the equation Z = sqrt(X^2 + Y^2)\n",
        "Z = np.sqrt(X**2 + Y**2)  # Computes the distance from the origin for each point in the grid\n",
        "Z.shape  # Checking the shape of the Z array"
      ],
      "metadata": {
        "colab": {
          "base_uri": "https://localhost:8080/"
        },
        "id": "jNowKQo9LA2j",
        "outputId": "72a7c4fc-f523-4223-8773-32550f475e43"
      },
      "execution_count": 4,
      "outputs": [
        {
          "output_type": "execute_result",
          "data": {
            "text/plain": [
              "(100, 100)"
            ]
          },
          "metadata": {},
          "execution_count": 4
        }
      ]
    },
    {
      "cell_type": "code",
      "source": [
        "Z[:5, :]  # Displaying the first 5 rows of the Z array\n"
      ],
      "metadata": {
        "colab": {
          "base_uri": "https://localhost:8080/"
        },
        "id": "jJ6l6rlxW5aJ",
        "outputId": "47d2f44b-7ade-43d0-bb26-daac2e90a42f"
      },
      "execution_count": 5,
      "outputs": [
        {
          "output_type": "execute_result",
          "data": {
            "text/plain": [
              "array([[4.24264069, 4.20000437, 4.15781429, 4.11608415, 4.0748281 ,\n",
              "        4.03406068, 3.99379684, 3.95405198, 3.91484191, 3.87618284,\n",
              "        3.83809143, 3.80058475, 3.76368028, 3.72739591, 3.69174992,\n",
              "        3.65676097, 3.62244812, 3.58883075, 3.55592858, 3.52376166,\n",
              "        3.49235029, 3.46171505, 3.43187671, 3.40285625, 3.37467476,\n",
              "        3.34735344, 3.3209135 , 3.29537617, 3.2707626 , 3.24709378,\n",
              "        3.22439052, 3.20267336, 3.18196248, 3.16227766, 3.14363817,\n",
              "        3.12606272, 3.10956934, 3.09417534, 3.0798972 , 3.06675051,\n",
              "        3.05474987, 3.04390885, 3.03423987, 3.02575416, 3.01846171,\n",
              "        3.01237119, 3.00748989, 3.0038237 , 3.00137709, 3.00015304,\n",
              "        3.00015304, 3.00137709, 3.0038237 , 3.00748989, 3.01237119,\n",
              "        3.01846171, 3.02575416, 3.03423987, 3.04390885, 3.05474987,\n",
              "        3.06675051, 3.0798972 , 3.09417534, 3.10956934, 3.12606272,\n",
              "        3.14363817, 3.16227766, 3.18196248, 3.20267336, 3.22439052,\n",
              "        3.24709378, 3.2707626 , 3.29537617, 3.3209135 , 3.34735344,\n",
              "        3.37467476, 3.40285625, 3.43187671, 3.46171505, 3.49235029,\n",
              "        3.52376166, 3.55592858, 3.58883075, 3.62244812, 3.65676097,\n",
              "        3.69174992, 3.72739591, 3.76368028, 3.80058475, 3.83809143,\n",
              "        3.87618284, 3.91484191, 3.95405198, 3.99379684, 4.03406068,\n",
              "        4.0748281 , 4.11608415, 4.15781429, 4.20000437, 4.24264069],\n",
              "       [4.20000437, 4.15693077, 4.11429901, 4.07212297, 4.03041695,\n",
              "        3.98919569, 3.94847438, 3.90826865, 3.86859456, 3.82946865,\n",
              "        3.79090788, 3.75292968, 3.71555191, 3.67879287, 3.6426713 ,\n",
              "        3.60720634, 3.57241755, 3.53832487, 3.50494862, 3.47230946,\n",
              "        3.44042836, 3.40932659, 3.37902567, 3.34954734, 3.3209135 ,\n",
              "        3.29314618, 3.26626747, 3.2402995 , 3.21526433, 3.19118391,\n",
              "        3.16808001, 3.14597415, 3.12488751, 3.10484085, 3.08585445,\n",
              "        3.06794799, 3.05114048, 3.03545017, 3.02089448, 3.00748989,\n",
              "        2.99525183, 2.98419467, 2.97433157, 2.96567446, 2.95823391,\n",
              "        2.95201912, 2.94703786, 2.94329638, 2.94079941, 2.93955014,\n",
              "        2.93955014, 2.94079941, 2.94329638, 2.94703786, 2.95201912,\n",
              "        2.95823391, 2.96567446, 2.97433157, 2.98419467, 2.99525183,\n",
              "        3.00748989, 3.02089448, 3.03545017, 3.05114048, 3.06794799,\n",
              "        3.08585445, 3.10484085, 3.12488751, 3.14597415, 3.16808001,\n",
              "        3.19118391, 3.21526433, 3.2402995 , 3.26626747, 3.29314618,\n",
              "        3.3209135 , 3.34954734, 3.37902567, 3.40932659, 3.44042836,\n",
              "        3.47230946, 3.50494862, 3.53832487, 3.57241755, 3.60720634,\n",
              "        3.6426713 , 3.67879287, 3.71555191, 3.75292968, 3.79090788,\n",
              "        3.82946865, 3.86859456, 3.90826865, 3.94847438, 3.98919569,\n",
              "        4.03041695, 4.07212297, 4.11429901, 4.15693077, 4.20000437],\n",
              "       [4.15781429, 4.11429901, 4.07122086, 4.02859385, 3.98643245,\n",
              "        3.9447516 , 3.90356669, 3.86289357, 3.82274859, 3.78314856,\n",
              "        3.74411077, 3.70565299, 3.66779347, 3.63055091, 3.5939445 ,\n",
              "        3.55799388, 3.52271913, 3.48814074, 3.45427963, 3.4211571 ,\n",
              "        3.3887948 , 3.35721473, 3.32643915, 3.29649061, 3.26739183,\n",
              "        3.23916574, 3.21183532, 3.18542364, 3.15995374, 3.13544856,\n",
              "        3.11193089, 3.08942329, 3.06794799, 3.04752681, 3.02818108,\n",
              "        3.00993153, 2.99279821, 2.97680041, 2.96195652, 2.94828396,\n",
              "        2.93579911, 2.92451718, 2.91445213, 2.90561661, 2.89802187,\n",
              "        2.89167768, 2.88659229, 2.88277236, 2.88022293, 2.87894736,\n",
              "        2.87894736, 2.88022293, 2.88277236, 2.88659229, 2.89167768,\n",
              "        2.89802187, 2.90561661, 2.91445213, 2.92451718, 2.93579911,\n",
              "        2.94828396, 2.96195652, 2.97680041, 2.99279821, 3.00993153,\n",
              "        3.02818108, 3.04752681, 3.06794799, 3.08942329, 3.11193089,\n",
              "        3.13544856, 3.15995374, 3.18542364, 3.21183532, 3.23916574,\n",
              "        3.26739183, 3.29649061, 3.32643915, 3.35721473, 3.3887948 ,\n",
              "        3.4211571 , 3.45427963, 3.48814074, 3.52271913, 3.55799388,\n",
              "        3.5939445 , 3.63055091, 3.66779347, 3.70565299, 3.74411077,\n",
              "        3.78314856, 3.82274859, 3.86289357, 3.90356669, 3.9447516 ,\n",
              "        3.98643245, 4.02859385, 4.07122086, 4.11429901, 4.15781429],\n",
              "       [4.11608415, 4.07212297, 4.02859385, 3.98551095, 3.94288889,\n",
              "        3.90074279, 3.85908823, 3.81794131, 3.77731861, 3.73723723,\n",
              "        3.69771478, 3.65876936, 3.62041959, 3.58268461, 3.54558404,\n",
              "        3.50913801, 3.47336712, 3.43829244, 3.4039355 , 3.37031823,\n",
              "        3.33746301, 3.30539254, 3.27412989, 3.24369842, 3.21412173,\n",
              "        3.18542364, 3.1576281 , 3.13075916, 3.10484085, 3.0798972 ,\n",
              "        3.05595206, 3.03302908, 3.0111516 , 2.99034258, 2.97062447,\n",
              "        2.95201912, 2.93454771, 2.91823059, 2.90308724, 2.88913611,\n",
              "        2.87639454, 2.86487868, 2.85460336, 2.84558202, 2.83782661,\n",
              "        2.83134755, 2.8261536 , 2.82225187, 2.81964771, 2.81834473,\n",
              "        2.81834473, 2.81964771, 2.82225187, 2.8261536 , 2.83134755,\n",
              "        2.83782661, 2.84558202, 2.85460336, 2.86487868, 2.87639454,\n",
              "        2.88913611, 2.90308724, 2.91823059, 2.93454771, 2.95201912,\n",
              "        2.97062447, 2.99034258, 3.0111516 , 3.03302908, 3.05595206,\n",
              "        3.0798972 , 3.10484085, 3.13075916, 3.1576281 , 3.18542364,\n",
              "        3.21412173, 3.24369842, 3.27412989, 3.30539254, 3.33746301,\n",
              "        3.37031823, 3.4039355 , 3.43829244, 3.47336712, 3.50913801,\n",
              "        3.54558404, 3.58268461, 3.62041959, 3.65876936, 3.69771478,\n",
              "        3.73723723, 3.77731861, 3.81794131, 3.85908823, 3.90074279,\n",
              "        3.94288889, 3.98551095, 4.02859385, 4.07212297, 4.11608415],\n",
              "       [4.0748281 , 4.03041695, 3.98643245, 3.94288889, 3.89980104,\n",
              "        3.85718415, 3.81505403, 3.77342698, 3.73231982, 3.69174992,\n",
              "        3.65173519, 3.61229408, 3.57344558, 3.53520923, 3.49760511,\n",
              "        3.46065382, 3.42437651, 3.3887948 , 3.35393085, 3.31980727,\n",
              "        3.28644711, 3.25387387, 3.22211139, 3.19118391, 3.16111591,\n",
              "        3.13193216, 3.10365761, 3.07631731, 3.0499364 , 3.02453997,\n",
              "        3.00015304, 2.97680041, 2.9545066 , 2.93329577, 2.91319155,\n",
              "        2.89421703, 2.87639454, 2.85974563, 2.84429092, 2.83004995,\n",
              "        2.81704115, 2.80528165, 2.79478722, 2.78557217, 2.77764922,\n",
              "        2.77102945, 2.76572223, 2.76173512, 2.75907385, 2.75774225,\n",
              "        2.75774225, 2.75907385, 2.76173512, 2.76572223, 2.77102945,\n",
              "        2.77764922, 2.78557217, 2.79478722, 2.80528165, 2.81704115,\n",
              "        2.83004995, 2.84429092, 2.85974563, 2.87639454, 2.89421703,\n",
              "        2.91319155, 2.93329577, 2.9545066 , 2.97680041, 3.00015304,\n",
              "        3.02453997, 3.0499364 , 3.07631731, 3.10365761, 3.13193216,\n",
              "        3.16111591, 3.19118391, 3.22211139, 3.25387387, 3.28644711,\n",
              "        3.31980727, 3.35393085, 3.3887948 , 3.42437651, 3.46065382,\n",
              "        3.49760511, 3.53520923, 3.57344558, 3.61229408, 3.65173519,\n",
              "        3.69174992, 3.73231982, 3.77342698, 3.81505403, 3.85718415,\n",
              "        3.89980104, 3.94288889, 3.98643245, 4.03041695, 4.0748281 ]])"
            ]
          },
          "metadata": {},
          "execution_count": 5
        }
      ]
    },
    {
      "cell_type": "code",
      "source": [
        "fig, ax = plt.subplots(1, 1)  # Creating a single subplot within a figure\n",
        "\n",
        "# Creating a filled contour plot using the contourf function\n",
        "cp = ax.contourf(X, Y, Z)  # Filled contour plot using the X, Y, and Z data\n",
        "fig.colorbar(cp)  # Adds a colorbar to the plot\n",
        "\n",
        "ax.set_title('Filled Contours Plot')  # Setting the title of the plot\n",
        "ax.set_xlabel('x (cm)')  # Setting the label for the x-axis\n",
        "ax.set_ylabel('y (cm)')  # Setting the label for the y-axis\n",
        "\n",
        "plt.show()  # Displaying the plot"
      ],
      "metadata": {
        "colab": {
          "base_uri": "https://localhost:8080/",
          "height": 472
        },
        "id": "O3R3hqSxLNaE",
        "outputId": "2ad2e759-4472-473b-80b2-33cdc7219c30"
      },
      "execution_count": 8,
      "outputs": [
        {
          "output_type": "display_data",
          "data": {
            "text/plain": [
              "<Figure size 640x480 with 2 Axes>"
            ],
            "image/png": "[encoded data removed]"
          },
          "metadata": {}
        }
      ]
    },
    {
      "cell_type": "code",
      "source": [
        "cp"
      ],
      "metadata": {
        "id": "see5r0SxLYPl",
        "colab": {
          "base_uri": "https://localhost:8080/"
        },
        "outputId": "e30e6e07-f4b0-48fc-bb7b-e3c81d918e7f"
      },
      "execution_count": null,
      "outputs": [
        {
          "output_type": "execute_result",
          "data": {
            "text/plain": [
              "<matplotlib.contour.QuadContourSet at 0x78df1ca261d0>"
            ]
          },
          "metadata": {},
          "execution_count": 9
        }
      ]
    },
    {
      "cell_type": "code",
      "source": [],
      "metadata": {
        "id": "-bqfW5ETXGbw"
      },
      "execution_count": null,
      "outputs": []
    }
  ]
}